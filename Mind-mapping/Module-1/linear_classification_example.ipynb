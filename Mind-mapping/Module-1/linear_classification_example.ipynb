{
 "cells": [
  {
   "cell_type": "code",
   "execution_count": 1,
   "metadata": {},
   "outputs": [],
   "source": [
    "import numpy as np"
   ]
  },
  {
   "cell_type": "markdown",
   "metadata": {},
   "source": [
    "![title](softmax-hinge.png)"
   ]
  },
  {
   "cell_type": "code",
   "execution_count": 14,
   "metadata": {},
   "outputs": [],
   "source": [
    "x = np.array([-15,22,-44,56])\n",
    "W = np.array([[0.01,-0.05,0.1,0.05],[0.7,0.2,0.05,0.16],[0,-0.45,-0.2,0.03]])\n",
    "b = np.array([0,0.2,-0.3])\n",
    "\n",
    "scores = W.dot(x) + b"
   ]
  },
  {
   "cell_type": "code",
   "execution_count": 15,
   "metadata": {},
   "outputs": [
    {
     "data": {
      "text/plain": [
       "array([-2.85,  0.86,  0.28])"
      ]
     },
     "execution_count": 15,
     "metadata": {},
     "output_type": "execute_result"
    }
   ],
   "source": [
    "scores"
   ]
  },
  {
   "cell_type": "code",
   "execution_count": 19,
   "metadata": {},
   "outputs": [],
   "source": [
    "def hinge_loss(scores,y):\n",
    "\n",
    "    delta = 1.0\n",
    "    # compute the margins for all classes in one vector operation\n",
    "    margins = np.maximum(0, scores - scores[y] + delta)\n",
    "    # on y-th position scores[y] - scores[y] canceled and gave delta. We want\n",
    "    # to ignore the y-th position and only consider margin on max wrong class\n",
    "    margins[y] = 0\n",
    "    loss_i = np.sum(margins)\n",
    "    return loss_i"
   ]
  },
  {
   "cell_type": "code",
   "execution_count": 32,
   "metadata": {},
   "outputs": [],
   "source": [
    "def softmax(scores,y):\n",
    "    exp_score = np.exp(scores) \n",
    "    np.set_printoptions(precision=3)\n",
    "    print(exp_score)\n",
    "    norm_score = exp_score/ np.sum(exp_score)\n",
    "    print(norm_score)\n",
    "    loss_i = - np.log(norm_score[y])\n",
    "    return loss_i"
   ]
  },
  {
   "cell_type": "code",
   "execution_count": 34,
   "metadata": {},
   "outputs": [
    {
     "name": "stdout",
     "output_type": "stream",
     "text": [
      "hinge loss = 1.58\n",
      "[0.058 2.363 1.323]\n",
      "[0.015 0.631 0.353]\n",
      "softmax loss = 1.04\n"
     ]
    }
   ],
   "source": [
    "true_label = 2\n",
    "print('hinge loss = %.2f'% hinge_loss(scores,true_label))\n",
    "print('softmax loss = %.2f'% softmax(scores,true_label))"
   ]
  },
  {
   "cell_type": "code",
   "execution_count": null,
   "metadata": {},
   "outputs": [],
   "source": []
  }
 ],
 "metadata": {
  "kernelspec": {
   "display_name": "Python 3",
   "language": "python",
   "name": "python3"
  },
  "language_info": {
   "codemirror_mode": {
    "name": "ipython",
    "version": 3
   },
   "file_extension": ".py",
   "mimetype": "text/x-python",
   "name": "python",
   "nbconvert_exporter": "python",
   "pygments_lexer": "ipython3",
   "version": "3.6.6"
  }
 },
 "nbformat": 4,
 "nbformat_minor": 2
}
